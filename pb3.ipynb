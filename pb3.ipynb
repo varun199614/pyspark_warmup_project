{
 "cells": [
  {
   "cell_type": "code",
   "execution_count": 1,
   "id": "3a2792a2-38b2-47ee-b5cf-a515be47d425",
   "metadata": {},
   "outputs": [],
   "source": [
    "#libraries needed for this program\n",
    "from pyspark import SparkContext\n",
    "from nltk.corpus import stopwords\n",
    "from collections import Counter"
   ]
  },
  {
   "cell_type": "code",
   "execution_count": 2,
   "id": "b49ddb89-e133-4269-8de5-700a8298dd54",
   "metadata": {},
   "outputs": [],
   "source": [
    "#function to remove charectors from words\n",
    "def charRemoveFromString(x):\n",
    "\tcleanString = ''.join(filter(str.isalnum, x)) \n",
    "\treturn cleanString"
   ]
  },
  {
   "cell_type": "code",
   "execution_count": 3,
   "id": "127817f5-fae1-403d-9cc3-8a74d768b10b",
   "metadata": {},
   "outputs": [],
   "source": [
    "#function to classify catogory Wise Top Words\n",
    "def catogoryWiseTopWords(all_articals_In_Catagory):\n",
    "    wordsList=list()\n",
    "    flag=0\n",
    "    for y in all_articals_In_Catagory:\n",
    "        y=y.rsplit()\n",
    "        y=[charRemoveFromString(word) for word in y if word not in stopwords.words('english')]\n",
    "        wordsList.append(Counter(y))\n",
    "    for y in wordsList:\n",
    "        if(flag):\n",
    "            tempcollector=y+tempcollector\n",
    "        else:\n",
    "            tempcollector=y\n",
    "            flag=1\n",
    "    return tempcollector.most_common(10)"
   ]
  },
  {
   "cell_type": "code",
   "execution_count": 4,
   "id": "93983c4a-8329-4589-9156-746639e038a6",
   "metadata": {},
   "outputs": [
    {
     "name": "stderr",
     "output_type": "stream",
     "text": [
      "WARNING: An illegal reflective access operation has occurred\n",
      "WARNING: Illegal reflective access by org.apache.spark.unsafe.Platform (file:/Library/Frameworks/Python.framework/Versions/3.9/lib/python3.9/site-packages/pyspark/jars/spark-unsafe_2.12-3.1.2.jar) to constructor java.nio.DirectByteBuffer(long,int)\n",
      "WARNING: Please consider reporting this to the maintainers of org.apache.spark.unsafe.Platform\n",
      "WARNING: Use --illegal-access=warn to enable warnings of further illegal reflective access operations\n",
      "WARNING: All illegal access operations will be denied in a future release\n",
      "21/10/02 02:34:45 WARN NativeCodeLoader: Unable to load native-hadoop library for your platform... using builtin-java classes where applicable\n",
      "Using Spark's default log4j profile: org/apache/spark/log4j-defaults.properties\n",
      "Setting default log level to \"WARN\".\n",
      "To adjust logging level use sc.setLogLevel(newLevel). For SparkR, use setLogLevel(newLevel).\n",
      "21/10/02 02:34:47 WARN Utils: Service 'SparkUI' could not bind on port 4040. Attempting port 4041.\n"
     ]
    }
   ],
   "source": [
    "# create Spark context with necessary configuration\n",
    "sc = SparkContext(\"local\",\"PySpark Word Count Exmaple\")\n",
    "stopWords=stopwords.words('english')\n",
    "stopWords.append('')"
   ]
  },
  {
   "cell_type": "code",
   "execution_count": 6,
   "id": "54e5dad7-fc36-4915-b1fc-cbbf784eb655",
   "metadata": {},
   "outputs": [],
   "source": [
    "# read data from text file and split each line into words and calling catogoryWiseTopWords\n",
    "nytarticals = sc.wholeTextFiles(\"/Users/venkatavarunnelakuditi/Desktop/input.txt\").flatMap(lambda lin: lin[1].split(\"URL: \")).filter(lambda x: x != '').groupBy(lambda w: w[0:39]).map(lambda x : (x[0],catogoryWiseTopWords(list(x[1]))))"
   ]
  },
  {
   "cell_type": "code",
   "execution_count": 7,
   "id": "7fcaeb60-e46d-4d20-9ce1-afbad0286c20",
   "metadata": {},
   "outputs": [
    {
     "name": "stderr",
     "output_type": "stream",
     "text": [
      "/Library/Frameworks/Python.framework/Versions/3.9/lib/python3.9/site-packages/pyspark/python/lib/pyspark.zip/pyspark/shuffle.py:60: UserWarning: Please install psutil to have better support with spilling\n",
      "/Library/Frameworks/Python.framework/Versions/3.9/lib/python3.9/site-packages/pyspark/python/lib/pyspark.zip/pyspark/shuffle.py:60: UserWarning: Please install psutil to have better support with spilling\n"
     ]
    },
    {
     "name": "stdout",
     "output_type": "stream",
     "text": [
      "('http://www.nytimes.com/2016/06/30/sport', [('said', 41), ('I', 26), ('Phelps', 21), ('The', 20), ('team', 16), ('Hornacek', 15), ('', 14), ('Mets', 13), ('Knicks', 12), ('Olympic', 12)])\n",
      "('http://www.nytimes.com/2016/06/30/nyreg', [('Mr', 112), ('said', 64), ('The', 37), ('students', 22), ('Pigeon', 21), ('', 20), ('50', 16), ('year', 16), ('JHS', 16), ('public', 16)])\n",
      "('http://www.nytimes.com/2016/06/30/busin', [('Lionsgate', 9), ('Starz', 9), ('cable', 6), ('premium', 5), ('would', 4), ('channel', 4), ('TV', 4), ('deal', 3), ('person', 3), ('Wednesday', 3)])\n",
      "('http://www.nytimes.com/2016/06/30/world', [('Islamic', 44), ('State', 39), ('Turkey', 30), ('said', 30), ('The', 25), ('fighters', 22), ('', 17), ('Syria', 16), ('Surt', 15), ('groups', 14)])\n",
      "('http://www.nytimes.com/2016/06/30/us/po', [('said', 42), ('Mrs', 24), ('Mr', 20), ('Clinton', 19), ('Ms', 18), ('Democrats', 14), ('Senator', 12), ('private', 12), ('email', 12), ('Wednesday', 11)])\n",
      "('http://www.nytimes.com/2016/06/30/techn', [('Kleiner', 8), ('Perkins', 8), ('raised', 8), ('billion', 7), ('venture', 6), ('fund', 5), ('firms', 4), ('funds', 4), ('firm', 3), ('first', 3)])\n"
     ]
    },
    {
     "name": "stderr",
     "output_type": "stream",
     "text": [
      "                                                                                \r"
     ]
    }
   ],
   "source": [
    "# read data from text file and split each line into words\n",
    "nytarticals=nytarticals.collect()\n",
    "for x in nytarticals:\n",
    "    print(x)"
   ]
  },
  {
   "cell_type": "code",
   "execution_count": null,
   "id": "723b22e6-340a-4224-97f8-15a13c064621",
   "metadata": {},
   "outputs": [],
   "source": []
  }
 ],
 "metadata": {
  "kernelspec": {
   "display_name": "Python 3 (ipykernel)",
   "language": "python",
   "name": "python3"
  },
  "language_info": {
   "codemirror_mode": {
    "name": "ipython",
    "version": 3
   },
   "file_extension": ".py",
   "mimetype": "text/x-python",
   "name": "python",
   "nbconvert_exporter": "python",
   "pygments_lexer": "ipython3",
   "version": "3.9.6"
  }
 },
 "nbformat": 4,
 "nbformat_minor": 5
}
